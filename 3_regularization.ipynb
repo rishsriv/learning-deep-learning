{
 "cells": [
  {
   "cell_type": "markdown",
   "metadata": {
    "colab_type": "text",
    "id": "kR-4eNdK6lYS"
   },
   "source": [
    "Deep Learning\n",
    "=============\n",
    "\n",
    "Assignment 3\n",
    "------------\n",
    "\n",
    "Previously in `2_fullyconnected.ipynb`, you trained a logistic regression and a neural network model.\n",
    "\n",
    "The goal of this assignment is to explore regularization techniques."
   ]
  },
  {
   "cell_type": "code",
   "execution_count": 1,
   "metadata": {
    "cellView": "both",
    "colab": {
     "autoexec": {
      "startup": false,
      "wait_interval": 0
     }
    },
    "colab_type": "code",
    "collapsed": true,
    "id": "JLpLa8Jt7Vu4"
   },
   "outputs": [],
   "source": [
    "# These are all the modules we'll be using later. Make sure you can import them\n",
    "# before proceeding further.\n",
    "import cPickle as pickle\n",
    "import numpy as np\n",
    "import tensorflow as tf"
   ]
  },
  {
   "cell_type": "markdown",
   "metadata": {
    "colab_type": "text",
    "id": "1HrCK6e17WzV"
   },
   "source": [
    "First reload the data we generated in _notmist.ipynb_."
   ]
  },
  {
   "cell_type": "code",
   "execution_count": 2,
   "metadata": {
    "cellView": "both",
    "colab": {
     "autoexec": {
      "startup": false,
      "wait_interval": 0
     },
     "output_extras": [
      {
       "item_id": 1
      }
     ]
    },
    "colab_type": "code",
    "collapsed": false,
    "executionInfo": {
     "elapsed": 11777,
     "status": "ok",
     "timestamp": 1449849322348,
     "user": {
      "color": "",
      "displayName": "",
      "isAnonymous": false,
      "isMe": true,
      "permissionId": "",
      "photoUrl": "",
      "sessionId": "0",
      "userId": ""
     },
     "user_tz": 480
    },
    "id": "y3-cj1bpmuxc",
    "outputId": "e03576f1-ebbe-4838-c388-f1777bcc9873"
   },
   "outputs": [
    {
     "name": "stdout",
     "output_type": "stream",
     "text": [
      "Training set (200000, 28, 28) (200000,)\n",
      "Validation set (10000, 28, 28) (10000,)\n",
      "Test set (18724, 28, 28) (18724,)\n"
     ]
    }
   ],
   "source": [
    "pickle_file = 'notMNIST.pickle'\n",
    "\n",
    "with open(pickle_file, 'rb') as f:\n",
    "    save = pickle.load(f)\n",
    "    train_dataset = save['train_dataset']\n",
    "    train_labels = save['train_labels']\n",
    "    valid_dataset = save['valid_dataset']\n",
    "    valid_labels = save['valid_labels']\n",
    "    test_dataset = save['test_dataset']\n",
    "    test_labels = save['test_labels']\n",
    "    del save  # hint to help gc free up memory\n",
    "    print 'Training set', train_dataset.shape, train_labels.shape\n",
    "    print 'Validation set', valid_dataset.shape, valid_labels.shape\n",
    "    print 'Test set', test_dataset.shape, test_labels.shape"
   ]
  },
  {
   "cell_type": "markdown",
   "metadata": {
    "colab_type": "text",
    "id": "L7aHrm6nGDMB"
   },
   "source": [
    "Reformat into a shape that's more adapted to the models we're going to train:\n",
    "- data as a flat matrix,\n",
    "- labels as float 1-hot encodings."
   ]
  },
  {
   "cell_type": "code",
   "execution_count": 3,
   "metadata": {
    "cellView": "both",
    "colab": {
     "autoexec": {
      "startup": false,
      "wait_interval": 0
     },
     "output_extras": [
      {
       "item_id": 1
      }
     ]
    },
    "colab_type": "code",
    "collapsed": false,
    "executionInfo": {
     "elapsed": 11728,
     "status": "ok",
     "timestamp": 1449849322356,
     "user": {
      "color": "",
      "displayName": "",
      "isAnonymous": false,
      "isMe": true,
      "permissionId": "",
      "photoUrl": "",
      "sessionId": "0",
      "userId": ""
     },
     "user_tz": 480
    },
    "id": "IRSyYiIIGIzS",
    "outputId": "3f8996ee-3574-4f44-c953-5c8a04636582"
   },
   "outputs": [
    {
     "name": "stdout",
     "output_type": "stream",
     "text": [
      "Training set (200000, 784) (200000, 10)\n",
      "Validation set (10000, 784) (10000, 10)\n",
      "Test set (18724, 784) (18724, 10)\n"
     ]
    }
   ],
   "source": [
    "image_size = 28\n",
    "num_labels = 10\n",
    "\n",
    "def reformat(dataset, labels):\n",
    "    dataset = dataset.reshape((-1, image_size * image_size)).astype(np.float32)\n",
    "    # Map 2 to [0.0, 1.0, 0.0 ...], 3 to [0.0, 0.0, 1.0 ...]\n",
    "    labels = (np.arange(num_labels) == labels[:,None]).astype(np.float32)\n",
    "    return dataset, labels\n",
    "\n",
    "train_dataset, train_labels = reformat(train_dataset, train_labels)\n",
    "valid_dataset, valid_labels = reformat(valid_dataset, valid_labels)\n",
    "test_dataset, test_labels = reformat(test_dataset, test_labels)\n",
    "print 'Training set', train_dataset.shape, train_labels.shape\n",
    "print 'Validation set', valid_dataset.shape, valid_labels.shape\n",
    "print 'Test set', test_dataset.shape, test_labels.shape"
   ]
  },
  {
   "cell_type": "code",
   "execution_count": 4,
   "metadata": {
    "cellView": "both",
    "colab": {
     "autoexec": {
      "startup": false,
      "wait_interval": 0
     }
    },
    "colab_type": "code",
    "collapsed": true,
    "id": "RajPLaL_ZW6w"
   },
   "outputs": [],
   "source": [
    "def accuracy(predictions, labels):\n",
    "    return (100.*np.sum(np.argmax(predictions,1) == np.argmax(labels, 1))/predictions.shape[0])"
   ]
  },
  {
   "cell_type": "markdown",
   "metadata": {
    "colab_type": "text",
    "id": "sgLbUAQ1CW-1"
   },
   "source": [
    "---\n",
    "Problem 1\n",
    "---------\n",
    "\n",
    "Introduce and tune L2 regularization for both logistic and neural network models. Remember that L2 amounts to adding a penalty on the norm of the weights to the loss. In TensorFlow, you can compue the L2 loss for a tensor `t` using `nn.l2_loss(t)`. The right amount of regularization should improve your validation / test accuracy.\n",
    "\n",
    "---"
   ]
  },
  {
   "cell_type": "markdown",
   "metadata": {},
   "source": [
    "### For logistic model"
   ]
  },
  {
   "cell_type": "code",
   "execution_count": 5,
   "metadata": {
    "collapsed": false
   },
   "outputs": [],
   "source": [
    "batch_size = 128\n",
    "reg_beta = 0.01\n",
    "\n",
    "graph = tf.Graph()\n",
    "with graph.as_default():\n",
    "    # Input data. For the training data, we use a placeholder that will be fed\n",
    "    # at run time with a training minibatch.\n",
    "    tf_train_dataset = tf.placeholder(tf.float32, shape=(batch_size, image_size * image_size))\n",
    "    tf_train_labels = tf.placeholder(tf.float32, shape=(batch_size, num_labels))\n",
    "    tf_valid_dataset = tf.constant(valid_dataset)\n",
    "    tf_test_dataset = tf.constant(test_dataset)\n",
    "\n",
    "    # Variables.\n",
    "    weights = tf.Variable(tf.truncated_normal([image_size * image_size, num_labels]))\n",
    "    biases = tf.Variable(tf.zeros([num_labels]))\n",
    "\n",
    "    # Training computation.\n",
    "    logits = tf.matmul(tf_train_dataset, weights) + biases\n",
    "    loss = tf.reduce_mean(tf.nn.softmax_cross_entropy_with_logits(logits, tf_train_labels)) \\\n",
    "           + reg_beta * tf.nn.l2_loss(weights)\n",
    "\n",
    "    # Optimizer.\n",
    "    optimizer = tf.train.GradientDescentOptimizer(0.5).minimize(loss)\n",
    "\n",
    "    # Predictions for the training, validation, and test data.\n",
    "    train_prediction = tf.nn.softmax(logits)\n",
    "    valid_prediction = tf.nn.softmax(tf.matmul(tf_valid_dataset, weights) + biases)\n",
    "    test_prediction = tf.nn.softmax(tf.matmul(tf_test_dataset, weights) + biases)"
   ]
  },
  {
   "cell_type": "code",
   "execution_count": 6,
   "metadata": {
    "collapsed": false
   },
   "outputs": [
    {
     "name": "stdout",
     "output_type": "stream",
     "text": [
      "Initialized\n",
      "Minibatch loss at step 0 : 45.8648\n",
      "Minibatch accuracy: 13.3%\n",
      "Validation accuracy: 17.2%\n",
      "Minibatch loss at step 500 : 0.936209\n",
      "Minibatch accuracy: 82.8%\n",
      "Validation accuracy: 79.7%\n",
      "Minibatch loss at step 1000 : 0.93504\n",
      "Minibatch accuracy: 78.1%\n",
      "Validation accuracy: 81.8%\n",
      "Minibatch loss at step 1500 : 0.810273\n",
      "Minibatch accuracy: 82.0%\n",
      "Validation accuracy: 81.5%\n",
      "Minibatch loss at step 2000 : 0.913523\n",
      "Minibatch accuracy: 77.3%\n",
      "Validation accuracy: 81.1%\n",
      "Minibatch loss at step 2500 : 0.879309\n",
      "Minibatch accuracy: 75.0%\n",
      "Validation accuracy: 81.2%\n",
      "Minibatch loss at step 3000 : 0.794345\n",
      "Minibatch accuracy: 78.9%\n",
      "Validation accuracy: 81.2%\n",
      "Test accuracy: 88.2%\n"
     ]
    }
   ],
   "source": [
    "num_steps = 3001\n",
    "\n",
    "with tf.Session(graph=graph) as session:\n",
    "    tf.initialize_all_variables().run()\n",
    "    print \"Initialized\"\n",
    "    for step in xrange(num_steps):\n",
    "        # Pick an offset within the training data, which has been randomized.\n",
    "        # Note: we could use better randomization across epochs.\n",
    "        offset = (step * batch_size) % (train_labels.shape[0] - batch_size)\n",
    "        # Generate a minibatch.\n",
    "        batch_data = train_dataset[offset:(offset + batch_size), :]\n",
    "        batch_labels = train_labels[offset:(offset + batch_size), :]\n",
    "        # Prepare a dictionary telling the session where to feed the minibatch.\n",
    "        # The key of the dictionary is the placeholder node of the graph to be fed,\n",
    "        # and the value is the numpy array to feed to it.\n",
    "        feed_dict = {tf_train_dataset : batch_data, tf_train_labels : batch_labels}\n",
    "        _, l, predictions = session.run([optimizer, loss, train_prediction], feed_dict=feed_dict)\n",
    "        if (step % 500 == 0):\n",
    "            print \"Minibatch loss at step\", step, \":\", l\n",
    "            print \"Minibatch accuracy: %.1f%%\" % accuracy(predictions, batch_labels)\n",
    "            print \"Validation accuracy: %.1f%%\" % accuracy(\n",
    "            valid_prediction.eval(), valid_labels)\n",
    "    print \"Test accuracy: %.1f%%\" % accuracy(test_prediction.eval(), test_labels)"
   ]
  },
  {
   "cell_type": "markdown",
   "metadata": {},
   "source": [
    "#### Results"
   ]
  },
  {
   "cell_type": "markdown",
   "metadata": {},
   "source": [
    "Test accuracy increased from 85.9% to 88.2%, using a regularization paramater of 0.01"
   ]
  },
  {
   "cell_type": "markdown",
   "metadata": {},
   "source": [
    "### For Single-Layer Neural Network"
   ]
  },
  {
   "cell_type": "code",
   "execution_count": 33,
   "metadata": {
    "collapsed": false
   },
   "outputs": [],
   "source": [
    "def get_nn_performance(num_steps= 3001,\n",
    "                       batch_size=128,\n",
    "                       n_hidden = 1024,\n",
    "                       reg_beta = 0.01,\n",
    "                       print_freq = 500,\n",
    "                       train_data_size = None,\n",
    "                       dropout=True):\n",
    "    if train_data_size is None:\n",
    "        train_data_size = train_labels.shape[0]\n",
    "    graph = tf.Graph()\n",
    "    with graph.as_default():\n",
    "        # Input data. For the training data, we use a placeholder that will be fed\n",
    "        # at run time with a training minibatch.\n",
    "\n",
    "        # tf Graph input\n",
    "        tf_train_dataset = tf.placeholder(tf.float32, shape=(batch_size, image_size * image_size))\n",
    "        tf_train_labels = tf.placeholder(tf.float32, shape=(batch_size, num_labels))\n",
    "        tf_valid_dataset = tf.constant(valid_dataset)\n",
    "        tf_test_dataset = tf.constant(test_dataset)\n",
    "\n",
    "        # Variables.\n",
    "        weights = {'h1': tf.Variable(tf.truncated_normal([image_size*image_size, n_hidden])),\n",
    "                   'out': tf.Variable(tf.truncated_normal([n_hidden, num_labels]))}\n",
    "        biases = {'b1': tf.Variable(tf.zeros([n_hidden])),\n",
    "                  'out': tf.Variable(tf.zeros([num_labels]))}\n",
    "\n",
    "        # Training computation.\n",
    "        layer_1 = tf.nn.relu(tf.add(tf.matmul(tf_train_dataset, weights['h1']), biases['b1'])) \n",
    "        #keep_prob = tf.placeholder(tf.float32, shape=[image_size*image_size, n_hidden])\n",
    "        keep_prob = tf.placeholder(tf.float32)\n",
    "        layer_1_drop = tf.nn.dropout(layer_1, keep_prob)\n",
    "        logits = tf.matmul(layer_1_drop, weights['out']) + biases['out']\n",
    "        loss = tf.reduce_mean(tf.nn.softmax_cross_entropy_with_logits(logits, tf_train_labels)) \\\n",
    "               + reg_beta * (tf.nn.l2_loss(weights['h1']) + tf.nn.l2_loss(weights['out']))\n",
    "\n",
    "        # Optimizer.\n",
    "        optimizer = tf.train.GradientDescentOptimizer(0.5).minimize(loss)\n",
    "\n",
    "        # Predictions for the training, validation, and test data.\n",
    "        train_prediction = tf.nn.softmax(logits)\n",
    "        valid_prediction = tf.nn.softmax(tf.matmul(tf.nn.relu(tf.add(tf.matmul(tf_valid_dataset, weights['h1']), biases['b1'])), weights['out']) + biases['out'])\n",
    "        test_prediction = tf.nn.softmax(tf.matmul(tf.nn.relu(tf.add(tf.matmul(tf_test_dataset, weights['h1']), biases['b1'])), weights['out']) + biases['out'])\n",
    "    \n",
    "    with tf.Session(graph=graph) as session:\n",
    "        tf.initialize_all_variables().run()\n",
    "        print \"Initialized\"\n",
    "        for step in xrange(num_steps):\n",
    "            # Pick an offset within the training data, which has been randomized.\n",
    "            # Note: we could use better randomization across epochs.\n",
    "            offset = (step * batch_size) % (train_data_size - batch_size)\n",
    "            # Generate a minibatch.\n",
    "            batch_data = train_dataset[offset:(offset + batch_size), :]\n",
    "            batch_labels = train_labels[offset:(offset + batch_size), :]\n",
    "            # Prepare a dictionary telling the session where to feed the minibatch.\n",
    "            # The key of the dictionary is the placeholder node of the graph to be fed,\n",
    "            # and the value is the numpy array to feed to it.\n",
    "            if dropout:\n",
    "                feed_dict = {tf_train_dataset: batch_data, tf_train_labels: batch_labels, keep_prob: 0.5}\n",
    "            else:\n",
    "                feed_dict = {tf_train_dataset: batch_data, tf_train_labels: batch_labels, keep_prob: 1.}\n",
    "            _, l, predictions = session.run([optimizer, loss, train_prediction], feed_dict=feed_dict)\n",
    "            if (step % print_freq == 0):\n",
    "                print \"Minibatch loss at step\", step, \":\", l\n",
    "                print \"Minibatch accuracy: %.1f%%\" % accuracy(predictions, batch_labels)\n",
    "                print \"Validation accuracy: %.1f%%\" % accuracy(\n",
    "                    valid_prediction.eval(feed_dict = {keep_prob: 1.}), valid_labels)\n",
    "        print \"Test accuracy: %.1f%%\" % accuracy(\n",
    "            test_prediction.eval(feed_dict = {keep_prob: 1.}), test_labels)\n",
    "    return graph"
   ]
  },
  {
   "cell_type": "markdown",
   "metadata": {},
   "source": [
    "#### Results"
   ]
  },
  {
   "cell_type": "code",
   "execution_count": 7,
   "metadata": {
    "collapsed": false
   },
   "outputs": [
    {
     "name": "stdout",
     "output_type": "stream",
     "text": [
      "Initialized\n",
      "Minibatch loss at step 0 : 342.41\n",
      "Minibatch accuracy: 13.3%\n",
      "Validation accuracy: 40.5%\n",
      "Minibatch loss at step 500 : 9.13228\n",
      "Minibatch accuracy: 80.5%\n",
      "Validation accuracy: 80.9%\n",
      "Minibatch loss at step 1000 : 13.0663\n",
      "Minibatch accuracy: 82.0%\n",
      "Validation accuracy: 80.9%\n",
      "Minibatch loss at step 1500 : 20.4485\n",
      "Minibatch accuracy: 75.8%\n",
      "Validation accuracy: 78.9%\n",
      "Minibatch loss at step 2000 : 8.90561\n",
      "Minibatch accuracy: 78.9%\n",
      "Validation accuracy: 82.2%\n",
      "Minibatch loss at step 2500 : 5.10572\n",
      "Minibatch accuracy: 77.3%\n",
      "Validation accuracy: 82.0%\n",
      "Minibatch loss at step 3000 : 2.84721\n",
      "Minibatch accuracy: 83.6%\n",
      "Validation accuracy: 82.1%\n",
      "Test accuracy: 88.8%\n"
     ]
    },
    {
     "data": {
      "text/plain": [
       "<tensorflow.python.framework.ops.Graph at 0x7fb3dc8474d0>"
      ]
     },
     "execution_count": 7,
     "metadata": {},
     "output_type": "execute_result"
    }
   ],
   "source": [
    "get_nn_performance(reg_beta=0., dropout=False)"
   ]
  },
  {
   "cell_type": "code",
   "execution_count": 38,
   "metadata": {
    "collapsed": false
   },
   "outputs": [
    {
     "name": "stdout",
     "output_type": "stream",
     "text": [
      "Initialized\n",
      "Minibatch loss at step 0 : 3552.45\n",
      "Minibatch accuracy: 8.6%\n",
      "Validation accuracy: 41.0%\n",
      "Minibatch loss at step 500 : 21.2522\n",
      "Minibatch accuracy: 84.4%\n",
      "Validation accuracy: 83.5%\n",
      "Minibatch loss at step 1000 : 0.966424\n",
      "Minibatch accuracy: 80.5%\n",
      "Validation accuracy: 84.2%\n",
      "Minibatch loss at step 1500 : 0.818788\n",
      "Minibatch accuracy: 83.6%\n",
      "Validation accuracy: 84.2%\n",
      "Minibatch loss at step 2000 : 0.874688\n",
      "Minibatch accuracy: 78.9%\n",
      "Validation accuracy: 84.0%\n",
      "Minibatch loss at step 2500 : 0.865266\n",
      "Minibatch accuracy: 79.7%\n",
      "Validation accuracy: 83.8%\n",
      "Minibatch loss at step 3000 : 0.778686\n",
      "Minibatch accuracy: 82.8%\n",
      "Validation accuracy: 84.4%\n",
      "Test accuracy: 90.3%\n"
     ]
    },
    {
     "data": {
      "text/plain": [
       "<tensorflow.python.framework.ops.Graph at 0x7fb37930ba10>"
      ]
     },
     "execution_count": 38,
     "metadata": {},
     "output_type": "execute_result"
    }
   ],
   "source": [
    "get_nn_performance(dropout=False)"
   ]
  },
  {
   "cell_type": "markdown",
   "metadata": {},
   "source": [
    "Test accuracy increased from 88.8% to 90.3% using a regularization parameter of 0.01"
   ]
  },
  {
   "cell_type": "markdown",
   "metadata": {
    "colab_type": "text",
    "id": "na8xX2yHZzNF"
   },
   "source": [
    "---\n",
    "Problem 2\n",
    "---------\n",
    "Let's demonstrate an extreme case of overfitting. Restrict your training data to just a few batches. What happens?\n",
    "\n",
    "---"
   ]
  },
  {
   "cell_type": "code",
   "execution_count": 36,
   "metadata": {
    "collapsed": false
   },
   "outputs": [
    {
     "name": "stdout",
     "output_type": "stream",
     "text": [
      "Initialized\n",
      "Minibatch loss at step 0 : 3526.05\n",
      "Minibatch accuracy: 10.2%\n",
      "Validation accuracy: 36.1%\n",
      "Minibatch loss at step 500 : 21.0261\n",
      "Minibatch accuracy: 100.0%\n",
      "Validation accuracy: 73.2%\n",
      "Minibatch loss at step 1000 : 0.380887\n",
      "Minibatch accuracy: 100.0%\n",
      "Validation accuracy: 74.1%\n",
      "Minibatch loss at step 1500 : 0.220484\n",
      "Minibatch accuracy: 100.0%\n",
      "Validation accuracy: 73.7%\n",
      "Minibatch loss at step 2000 : 0.210154\n",
      "Minibatch accuracy: 100.0%\n",
      "Validation accuracy: 73.8%\n",
      "Minibatch loss at step 2500 : 0.202831\n",
      "Minibatch accuracy: 100.0%\n",
      "Validation accuracy: 73.8%\n",
      "Minibatch loss at step 3000 : 0.201045\n",
      "Minibatch accuracy: 100.0%\n",
      "Validation accuracy: 73.7%\n",
      "Test accuracy: 80.8%\n"
     ]
    },
    {
     "data": {
      "text/plain": [
       "<tensorflow.python.framework.ops.Graph at 0x7fb3cafa6b90>"
      ]
     },
     "execution_count": 36,
     "metadata": {},
     "output_type": "execute_result"
    }
   ],
   "source": [
    "get_nn_performance(train_data_size=200, dropout=False)"
   ]
  },
  {
   "cell_type": "markdown",
   "metadata": {},
   "source": [
    "#### Results"
   ]
  },
  {
   "cell_type": "markdown",
   "metadata": {},
   "source": [
    "Very high minibatch accuracy, but somewhat low validation accuracy and test accuracy"
   ]
  },
  {
   "cell_type": "markdown",
   "metadata": {
    "colab_type": "text",
    "id": "ww3SCBUdlkRc"
   },
   "source": [
    "---\n",
    "Problem 3\n",
    "---------\n",
    "Introduce Dropout on the hidden layer of the neural network. Remember: Dropout should only be introduced during training, not evaluation, otherwise your evaluation results would be stochastic as well. TensorFlow provides `nn.dropout()` for that, but you have to make sure it's only inserted during training.\n",
    "\n",
    "What happens to our extreme overfitting case?\n",
    "\n",
    "---"
   ]
  },
  {
   "cell_type": "code",
   "execution_count": 39,
   "metadata": {
    "collapsed": false
   },
   "outputs": [
    {
     "name": "stdout",
     "output_type": "stream",
     "text": [
      "Initialized\n",
      "Minibatch loss at step 0 : 3590.91\n",
      "Minibatch accuracy: 13.3%\n",
      "Validation accuracy: 14.9%\n",
      "Minibatch loss at step 500 : 21.486\n",
      "Minibatch accuracy: 82.0%\n",
      "Validation accuracy: 83.0%\n",
      "Minibatch loss at step 1000 : 1.03931\n",
      "Minibatch accuracy: 79.7%\n",
      "Validation accuracy: 83.7%\n",
      "Minibatch loss at step 1500 : 0.880907\n",
      "Minibatch accuracy: 81.2%\n",
      "Validation accuracy: 83.9%\n",
      "Minibatch loss at step 2000 : 0.909137\n",
      "Minibatch accuracy: 79.7%\n",
      "Validation accuracy: 83.6%\n",
      "Minibatch loss at step 2500 : 0.945273\n",
      "Minibatch accuracy: 78.1%\n",
      "Validation accuracy: 83.4%\n",
      "Minibatch loss at step 3000 : 0.837463\n",
      "Minibatch accuracy: 80.5%\n",
      "Validation accuracy: 83.7%\n",
      "Test accuracy: 89.9%\n"
     ]
    },
    {
     "data": {
      "text/plain": [
       "<tensorflow.python.framework.ops.Graph at 0x7fb3dc1001d0>"
      ]
     },
     "execution_count": 39,
     "metadata": {},
     "output_type": "execute_result"
    }
   ],
   "source": [
    "get_nn_performance(dropout=True)"
   ]
  },
  {
   "cell_type": "code",
   "execution_count": 37,
   "metadata": {
    "collapsed": false
   },
   "outputs": [
    {
     "name": "stdout",
     "output_type": "stream",
     "text": [
      "Initialized\n",
      "Minibatch loss at step 0 : 3624.46\n",
      "Minibatch accuracy: 15.6%\n",
      "Validation accuracy: 26.6%\n",
      "Minibatch loss at step 500 : 21.0762\n",
      "Minibatch accuracy: 100.0%\n",
      "Validation accuracy: 74.0%\n",
      "Minibatch loss at step 1000 : 0.390473\n",
      "Minibatch accuracy: 100.0%\n",
      "Validation accuracy: 74.4%\n",
      "Minibatch loss at step 1500 : 0.244134\n",
      "Minibatch accuracy: 100.0%\n",
      "Validation accuracy: 74.6%\n",
      "Minibatch loss at step 2000 : 0.224882\n",
      "Minibatch accuracy: 100.0%\n",
      "Validation accuracy: 74.4%\n",
      "Minibatch loss at step 2500 : 0.220285\n",
      "Minibatch accuracy: 100.0%\n",
      "Validation accuracy: 74.6%\n",
      "Minibatch loss at step 3000 : 0.215421\n",
      "Minibatch accuracy: 100.0%\n",
      "Validation accuracy: 74.4%\n",
      "Test accuracy: 81.5%\n"
     ]
    },
    {
     "data": {
      "text/plain": [
       "<tensorflow.python.framework.ops.Graph at 0x7fb3caf78c50>"
      ]
     },
     "execution_count": 37,
     "metadata": {},
     "output_type": "execute_result"
    }
   ],
   "source": [
    "get_nn_performance(train_data_size=200, dropout=True)"
   ]
  },
  {
   "cell_type": "markdown",
   "metadata": {
    "colab_type": "text",
    "id": "-b1hTz3VWZjw"
   },
   "source": [
    "---\n",
    "Problem 4\n",
    "---------\n",
    "\n",
    "Try to get the best performance you can using a multi-layer model! The best reported test accuracy using a deep network is [97.1%](http://yaroslavvb.blogspot.com/2011/09/notmnist-dataset.html?showComment=1391023266211#c8758720086795711595).\n",
    "\n",
    "One avenue you can explore is to add multiple layers.\n",
    "\n",
    "Another one is to use learning rate decay:\n",
    "\n",
    "    global_step = tf.Variable(0)  # count the number of steps taken.\n",
    "    learning_rate = tf.train.exponential_decay(0.5, step, ...)\n",
    "    optimizer = tf.train.GradientDescentOptimizer(learning_rate).minimize(loss, global_step=global_step)\n",
    " \n",
    " ---\n"
   ]
  },
  {
   "cell_type": "code",
   "execution_count": 45,
   "metadata": {
    "collapsed": false
   },
   "outputs": [],
   "source": [
    "def get_nn_performance_two_hidden(num_steps=3001, batch_size=128, n_hidden=1024, n_hidden_2=128, reg_beta=0.01,\n",
    "        print_freq=500, train_data_size=None, starter_learning_rate=0.1, dropout_rate=0.5, exp_learning_rate=True):\n",
    "    if train_data_size is None:\n",
    "        train_data_size = train_labels.shape[0]\n",
    "    graph = tf.Graph()\n",
    "    with graph.as_default():\n",
    "        # Input data. For the training data, we use a placeholder that will be fed\n",
    "        # at run time with a training minibatch.\n",
    "\n",
    "        # tf Graph input\n",
    "        if exp_learning_rate:\n",
    "            global_step = tf.Variable(0, trainable=False)\n",
    "            learning_rate = tf.train.exponential_decay(starter_learning_rate, global_step,\n",
    "                                                       100000, 0.96, staircase=True)\n",
    "        tf_train_dataset = tf.placeholder(tf.float32, shape=(batch_size, image_size * image_size))\n",
    "        tf_train_labels = tf.placeholder(tf.float32, shape=(batch_size, num_labels))\n",
    "        tf_valid_dataset = tf.constant(valid_dataset)\n",
    "        tf_test_dataset = tf.constant(test_dataset)\n",
    "\n",
    "        # Variables.\n",
    "        weights = {'h1': tf.Variable(tf.truncated_normal([image_size*image_size, n_hidden])),\n",
    "                   'h2': tf.Variable(tf.truncated_normal([n_hidden, n_hidden_2])),\n",
    "                   'out': tf.Variable(tf.truncated_normal([n_hidden_2, num_labels]))}\n",
    "        biases = {'b1': tf.Variable(tf.zeros([n_hidden])),\n",
    "                  'b2': tf.Variable(tf.zeros([n_hidden_2])),\n",
    "                  'out': tf.Variable(tf.zeros([num_labels]))}\n",
    "\n",
    "        # Training computation.\n",
    "        layer_1 = tf.nn.relu(tf.add(tf.matmul(tf_train_dataset, weights['h1']), biases['b1']))\n",
    "        keep_prob = tf.placeholder(tf.float32)\n",
    "        layer_1_drop = tf.nn.dropout(layer_1, keep_prob)\n",
    "        layer_2 = tf.nn.relu(tf.add(tf.matmul(layer_1_drop, weights['h2']), biases['b2']))\n",
    "        #later_2_drop = tf.nn.dropout(layer_2, keep_prob)\n",
    "        #logits = tf.matmul(layer_1_drop, weights['out']) + biases['out']\n",
    "        logits = tf.matmul(layer_2, weights['out']) + biases['out']\n",
    "        loss = tf.reduce_mean(tf.nn.softmax_cross_entropy_with_logits(logits, tf_train_labels)) \\\n",
    "               + reg_beta * (tf.nn.l2_loss(weights['h1']) + tf.nn.l2_loss(weights['h2']) + tf.nn.l2_loss(weights['out']))\n",
    "\n",
    "        # Optimizer.\n",
    "        optimizer = tf.train.GradientDescentOptimizer(learning_rate).minimize(loss)\n",
    "        #optimizer = tf.train.AdamOptimizer(learning_rate).minimize(loss)\n",
    "\n",
    "        # Predictions for the training, validation, and test data.\n",
    "        train_prediction = tf.nn.softmax(logits)\n",
    "        \n",
    "        #valid_layer_1 = tf.nn.relu(tf.add(tf.matmul(valid_dataset, weights['h1']), biases['b1']))\n",
    "        #valid_layer_2 = tf.nn.relu(tf.add(tf.matmul(tf.nn.relu(tf.add(tf.matmul(valid_dataset, weights['h1']), biases['b1'])), weights['h2']), biases['b2']))\n",
    "        valid_prediction = tf.nn.softmax(tf.matmul(tf.nn.relu(tf.add(tf.matmul(\n",
    "                            tf.nn.relu(tf.add(tf.matmul(valid_dataset, weights['h1']), biases['b1'])), weights['h2']), biases['b2'])),\n",
    "                                                   weights['out']) + biases['out'])\n",
    "        \n",
    "        test_prediction = tf.nn.softmax(tf.matmul(tf.nn.relu(tf.add(tf.matmul(\n",
    "                            tf.nn.relu(tf.add(tf.matmul(test_dataset, weights['h1']), biases['b1'])), weights['h2']), biases['b2'])),\n",
    "                                                   weights['out']) + biases['out'])\n",
    "    \n",
    "    with tf.Session(graph=graph) as session:\n",
    "        tf.initialize_all_variables().run()\n",
    "        print \"Initialized\"\n",
    "        for step in xrange(num_steps):\n",
    "            # Pick an offset within the training data, which has been randomized.\n",
    "            # Note: we could use better randomization across epochs.\n",
    "            offset = (step * batch_size) % (train_data_size - batch_size)\n",
    "            # Generate a minibatch.\n",
    "            batch_data = train_dataset[offset:(offset + batch_size), :]\n",
    "            batch_labels = train_labels[offset:(offset + batch_size), :]\n",
    "            # Prepare a dictionary telling the session where to feed the minibatch.\n",
    "            # The key of the dictionary is the placeholder node of the graph to be fed,\n",
    "            # and the value is the numpy array to feed to it.\n",
    "            feed_dict = {tf_train_dataset: batch_data, tf_train_labels: batch_labels, keep_prob: dropout_rate}\n",
    "            _, l, predictions = session.run([optimizer, loss, train_prediction], feed_dict=feed_dict)\n",
    "            if (step % print_freq == 0):\n",
    "                print \"Minibatch loss at step\", step, \":\", l\n",
    "                print \"Minibatch accuracy: %.1f%%\" % accuracy(predictions, batch_labels)\n",
    "                print \"Validation accuracy: %.1f%%\" % accuracy(\n",
    "                    valid_prediction.eval(feed_dict = {keep_prob: 1.}), valid_labels)\n",
    "        print \"Test accuracy: %.1f%%\" % accuracy(\n",
    "            test_prediction.eval(feed_dict = {keep_prob: 1.}), test_labels)\n",
    "    return graph"
   ]
  },
  {
   "cell_type": "code",
   "execution_count": 81,
   "metadata": {
    "collapsed": false
   },
   "outputs": [
    {
     "name": "stdout",
     "output_type": "stream",
     "text": [
      "Help on function get_nn_performance_two_hidden in module __main__:\n",
      "\n",
      "get_nn_performance_two_hidden(num_steps=3001, batch_size=128, n_hidden=1024, n_hidden_2=128, reg_beta=0.01, print_freq=500, train_data_size=None, starter_learning_rate=0.1, dropout_rate=0.5, exp_learning_rate=True)\n",
      "\n"
     ]
    }
   ],
   "source": [
    "help(get_nn_performance_two_hidden)"
   ]
  },
  {
   "cell_type": "markdown",
   "metadata": {},
   "source": [
    "Using Gradient Descent Optimizer"
   ]
  },
  {
   "cell_type": "code",
   "execution_count": 84,
   "metadata": {
    "collapsed": false,
    "scrolled": true
   },
   "outputs": [
    {
     "name": "stdout",
     "output_type": "stream",
     "text": [
      "Initialized\n",
      "Minibatch loss at step 0 : 5817.33\n",
      "Minibatch accuracy: 7.8%\n",
      "Validation accuracy: 25.5%\n",
      "Minibatch loss at step 250 : 2822.95\n",
      "Minibatch accuracy: 14.1%\n",
      "Validation accuracy: 15.5%\n",
      "Minibatch loss at step 500 : 2198.04\n",
      "Minibatch accuracy: 18.0%\n",
      "Validation accuracy: 15.4%\n",
      "Minibatch loss at step 750 : 1712.41\n",
      "Minibatch accuracy: 21.1%\n",
      "Validation accuracy: 20.7%\n",
      "Minibatch loss at step 1000 : 1333.81\n",
      "Minibatch accuracy: 25.8%\n",
      "Validation accuracy: 23.4%\n",
      "Minibatch loss at step 1250 : 1038.74\n",
      "Minibatch accuracy: 37.5%\n",
      "Validation accuracy: 34.5%\n",
      "Minibatch loss at step 1500 : 809.177\n",
      "Minibatch accuracy: 37.5%\n",
      "Validation accuracy: 41.0%\n",
      "Minibatch loss at step 1750 : 630.489\n",
      "Minibatch accuracy: 39.1%\n",
      "Validation accuracy: 45.2%\n",
      "Minibatch loss at step 2000 : 491.145\n",
      "Minibatch accuracy: 50.0%\n",
      "Validation accuracy: 50.6%\n",
      "Minibatch loss at step 2250 : 382.706\n",
      "Minibatch accuracy: 53.9%\n",
      "Validation accuracy: 55.3%\n",
      "Minibatch loss at step 2500 : 298.134\n",
      "Minibatch accuracy: 53.1%\n",
      "Validation accuracy: 63.6%\n",
      "Minibatch loss at step 2750 : 232.126\n",
      "Minibatch accuracy: 67.2%\n",
      "Validation accuracy: 67.7%\n",
      "Minibatch loss at step 3000 : 181.293\n",
      "Minibatch accuracy: 62.5%\n",
      "Validation accuracy: 76.3%\n",
      "Minibatch loss at step 3250 : 140.991\n",
      "Minibatch accuracy: 75.8%\n",
      "Validation accuracy: 78.1%\n",
      "Minibatch loss at step 3500 : 109.851\n",
      "Minibatch accuracy: 82.0%\n",
      "Validation accuracy: 80.1%\n",
      "Minibatch loss at step 3750 : 85.6142\n",
      "Minibatch accuracy: 85.9%\n",
      "Validation accuracy: 81.0%\n",
      "Minibatch loss at step 4000 : 66.966\n",
      "Minibatch accuracy: 78.1%\n",
      "Validation accuracy: 81.9%\n",
      "Minibatch loss at step 4250 : 52.233\n",
      "Minibatch accuracy: 79.7%\n",
      "Validation accuracy: 82.2%\n",
      "Minibatch loss at step 4500 : 40.8449\n",
      "Minibatch accuracy: 78.9%\n",
      "Validation accuracy: 83.0%\n",
      "Minibatch loss at step 4750 : 31.857\n",
      "Minibatch accuracy: 82.8%\n",
      "Validation accuracy: 83.3%\n",
      "Minibatch loss at step 5000 : 24.9717\n",
      "Minibatch accuracy: 88.3%\n",
      "Validation accuracy: 83.6%\n",
      "Minibatch loss at step 5250 : 19.686\n",
      "Minibatch accuracy: 80.5%\n",
      "Validation accuracy: 83.9%\n",
      "Minibatch loss at step 5500 : 15.5051\n",
      "Minibatch accuracy: 80.5%\n",
      "Validation accuracy: 84.2%\n",
      "Minibatch loss at step 5750 : 12.0971\n",
      "Minibatch accuracy: 87.5%\n",
      "Validation accuracy: 84.3%\n",
      "Minibatch loss at step 6000 : 9.67032\n",
      "Minibatch accuracy: 82.0%\n",
      "Validation accuracy: 84.4%\n",
      "Minibatch loss at step 6250 : 7.66035\n",
      "Minibatch accuracy: 85.2%\n",
      "Validation accuracy: 84.8%\n",
      "Minibatch loss at step 6500 : 6.0894\n",
      "Minibatch accuracy: 85.2%\n",
      "Validation accuracy: 84.6%\n",
      "Minibatch loss at step 6750 : 4.96631\n",
      "Minibatch accuracy: 83.6%\n",
      "Validation accuracy: 84.7%\n",
      "Test accuracy: 91.0%\n"
     ]
    },
    {
     "data": {
      "text/plain": [
       "<tensorflow.python.framework.ops.Graph at 0x7fb3581ced90>"
      ]
     },
     "execution_count": 84,
     "metadata": {},
     "output_type": "execute_result"
    }
   ],
   "source": [
    "get_nn_performance_two_hidden(num_steps=7000, batch_size=128,\n",
    "                              print_freq=250, starter_learning_rate=0.05,\n",
    "                              dropout_rate=0.8, exp_learning_rate=True)"
   ]
  },
  {
   "cell_type": "code",
   "execution_count": 47,
   "metadata": {
    "collapsed": false
   },
   "outputs": [
    {
     "name": "stdout",
     "output_type": "stream",
     "text": [
      "Help on function get_nn_performance_two_hidden in module __main__:\n",
      "\n",
      "get_nn_performance_two_hidden(num_steps=3001, batch_size=128, n_hidden=1024, n_hidden_2=128, reg_beta=0.01, print_freq=500, train_data_size=None, starter_learning_rate=0.1, dropout_rate=0.5, exp_learning_rate=True)\n",
      "\n"
     ]
    }
   ],
   "source": [
    "help(get_nn_performance_two_hidden)"
   ]
  },
  {
   "cell_type": "code",
   "execution_count": 6,
   "metadata": {
    "collapsed": false,
    "scrolled": true
   },
   "outputs": [
    {
     "name": "stdout",
     "output_type": "stream",
     "text": [
      "Initialized\n",
      "Minibatch loss at step 0 : 6154.15\n",
      "Minibatch accuracy: 12.9%\n",
      "Validation accuracy: 18.6%\n",
      "Minibatch loss at step 250 : 2872.94\n",
      "Minibatch accuracy: 11.7%\n",
      "Validation accuracy: 11.3%\n",
      "Minibatch loss at step 500 : 2237.67\n",
      "Minibatch accuracy: 15.2%\n",
      "Validation accuracy: 12.8%\n",
      "Minibatch loss at step 750 : 1742.9\n",
      "Minibatch accuracy: 18.8%\n",
      "Validation accuracy: 18.4%\n",
      "Minibatch loss at step 1000 : 1357.58\n",
      "Minibatch accuracy: 23.0%\n",
      "Validation accuracy: 24.2%\n",
      "Minibatch loss at step 1250 : 1057.4\n",
      "Minibatch accuracy: 26.2%\n",
      "Validation accuracy: 28.7%\n",
      "Minibatch loss at step 1500 : 823.671\n",
      "Minibatch accuracy: 35.5%\n",
      "Validation accuracy: 37.3%\n",
      "Minibatch loss at step 1750 : 641.573\n",
      "Minibatch accuracy: 43.0%\n",
      "Validation accuracy: 41.6%\n",
      "Minibatch loss at step 2000 : 500.082\n",
      "Minibatch accuracy: 41.4%\n",
      "Validation accuracy: 45.3%\n",
      "Minibatch loss at step 2250 : 389.496\n",
      "Minibatch accuracy: 54.3%\n",
      "Validation accuracy: 50.3%\n",
      "Minibatch loss at step 2500 : 303.504\n",
      "Minibatch accuracy: 57.0%\n",
      "Validation accuracy: 59.9%\n",
      "Minibatch loss at step 2750 : 236.374\n",
      "Minibatch accuracy: 69.9%\n",
      "Validation accuracy: 67.2%\n",
      "Minibatch loss at step 3000 : 184.234\n",
      "Minibatch accuracy: 71.5%\n",
      "Validation accuracy: 74.8%\n",
      "Minibatch loss at step 3250 : 143.531\n",
      "Minibatch accuracy: 73.8%\n",
      "Validation accuracy: 78.4%\n",
      "Minibatch loss at step 3500 : 111.876\n",
      "Minibatch accuracy: 77.3%\n",
      "Validation accuracy: 80.0%\n",
      "Minibatch loss at step 3750 : 87.2765\n",
      "Minibatch accuracy: 75.4%\n",
      "Validation accuracy: 81.4%\n",
      "Minibatch loss at step 4000 : 68.0249\n",
      "Minibatch accuracy: 82.0%\n",
      "Validation accuracy: 82.1%\n",
      "Minibatch loss at step 4250 : 52.9949\n",
      "Minibatch accuracy: 84.8%\n",
      "Validation accuracy: 82.6%\n",
      "Minibatch loss at step 4500 : 41.5072\n",
      "Minibatch accuracy: 82.0%\n",
      "Validation accuracy: 83.0%\n",
      "Minibatch loss at step 4750 : 32.5363\n",
      "Minibatch accuracy: 81.2%\n",
      "Validation accuracy: 83.5%\n",
      "Minibatch loss at step 5000 : 25.4321\n",
      "Minibatch accuracy: 82.0%\n",
      "Validation accuracy: 83.6%\n",
      "Minibatch loss at step 5250 : 19.8675\n",
      "Minibatch accuracy: 86.7%\n",
      "Validation accuracy: 83.8%\n",
      "Minibatch loss at step 5500 : 15.6773\n",
      "Minibatch accuracy: 84.8%\n",
      "Validation accuracy: 84.2%\n",
      "Minibatch loss at step 5750 : 12.4374\n",
      "Minibatch accuracy: 81.6%\n",
      "Validation accuracy: 84.2%\n",
      "Minibatch loss at step 6000 : 9.80269\n",
      "Minibatch accuracy: 83.6%\n",
      "Validation accuracy: 84.4%\n",
      "Minibatch loss at step 6250 : 7.80724\n",
      "Minibatch accuracy: 82.8%\n",
      "Validation accuracy: 84.5%\n",
      "Minibatch loss at step 6500 : 6.26822\n",
      "Minibatch accuracy: 83.6%\n",
      "Validation accuracy: 84.5%\n",
      "Minibatch loss at step 6750 : 4.94078\n",
      "Minibatch accuracy: 87.1%\n",
      "Validation accuracy: 84.7%\n",
      "Test accuracy: 91.1%\n"
     ]
    },
    {
     "data": {
      "text/plain": [
       "<tensorflow.python.framework.ops.Graph at 0x7fc3d28da110>"
      ]
     },
     "execution_count": 6,
     "metadata": {},
     "output_type": "execute_result"
    }
   ],
   "source": [
    "get_nn_performance_two_hidden(num_steps=7000, batch_size=256,\n",
    "                              print_freq=250, starter_learning_rate=0.05,\n",
    "                              dropout_rate=0.8, exp_learning_rate=True)"
   ]
  },
  {
   "cell_type": "code",
   "execution_count": 49,
   "metadata": {
    "collapsed": false,
    "scrolled": true
   },
   "outputs": [
    {
     "name": "stdout",
     "output_type": "stream",
     "text": [
      "Initialized\n",
      "Minibatch loss at step 0 : 6224.33\n",
      "Minibatch accuracy: 12.9%\n",
      "Validation accuracy: 29.6%\n",
      "Minibatch loss at step 500 : 2206.45\n",
      "Minibatch accuracy: 14.3%\n",
      "Validation accuracy: 14.9%\n",
      "Minibatch loss at step 1000 : 1338.47\n",
      "Minibatch accuracy: 31.1%\n",
      "Validation accuracy: 29.9%\n",
      "Minibatch loss at step 1500 : 811.761\n",
      "Minibatch accuracy: 52.5%\n",
      "Validation accuracy: 56.7%\n",
      "Minibatch loss at step 2000 : 492.366\n",
      "Minibatch accuracy: 70.7%\n",
      "Validation accuracy: 70.3%\n",
      "Minibatch loss at step 2500 : 298.866\n",
      "Minibatch accuracy: 72.5%\n",
      "Validation accuracy: 76.9%\n",
      "Minibatch loss at step 3000 : 181.452\n",
      "Minibatch accuracy: 77.9%\n",
      "Validation accuracy: 80.0%\n",
      "Minibatch loss at step 3500 : 110.197\n",
      "Minibatch accuracy: 81.1%\n",
      "Validation accuracy: 81.9%\n",
      "Minibatch loss at step 4000 : 67.1049\n",
      "Minibatch accuracy: 79.7%\n",
      "Validation accuracy: 83.0%\n",
      "Minibatch loss at step 4500 : 40.88\n",
      "Minibatch accuracy: 83.8%\n",
      "Validation accuracy: 83.7%\n",
      "Minibatch loss at step 5000 : 25.0898\n",
      "Minibatch accuracy: 81.8%\n",
      "Validation accuracy: 84.3%\n",
      "Minibatch loss at step 5500 : 15.5301\n",
      "Minibatch accuracy: 83.0%\n",
      "Validation accuracy: 84.7%\n",
      "Minibatch loss at step 6000 : 9.66302\n",
      "Minibatch accuracy: 84.6%\n",
      "Validation accuracy: 84.9%\n",
      "Minibatch loss at step 6500 : 6.07377\n",
      "Minibatch accuracy: 86.9%\n",
      "Validation accuracy: 85.0%\n",
      "Minibatch loss at step 7000 : 3.9694\n",
      "Minibatch accuracy: 84.8%\n",
      "Validation accuracy: 85.0%\n",
      "Test accuracy: 91.3%\n"
     ]
    },
    {
     "data": {
      "text/plain": [
       "<tensorflow.python.framework.ops.Graph at 0x7fb3e69f2f50>"
      ]
     },
     "execution_count": 49,
     "metadata": {},
     "output_type": "execute_result"
    }
   ],
   "source": [
    "get_nn_performance_two_hidden(num_steps=7001, batch_size=512,\n",
    "                              print_freq=500, starter_learning_rate=0.05,\n",
    "                              dropout_rate=0.8, exp_learning_rate=True,\n",
    "                              reg_beta=0.01)"
   ]
  },
  {
   "cell_type": "code",
   "execution_count": 51,
   "metadata": {
    "collapsed": false,
    "scrolled": true
   },
   "outputs": [
    {
     "name": "stdout",
     "output_type": "stream",
     "text": [
      "Initialized\n",
      "Minibatch loss at step 0 : 7063.9\n",
      "Minibatch accuracy: 13.7%\n",
      "Validation accuracy: 25.9%\n",
      "Minibatch loss at step 500 : 2549.72\n",
      "Minibatch accuracy: 24.8%\n",
      "Validation accuracy: 22.3%\n",
      "Minibatch loss at step 1000 : 1546.4\n",
      "Minibatch accuracy: 38.3%\n",
      "Validation accuracy: 38.9%\n",
      "Minibatch loss at step 1500 : 937.861\n",
      "Minibatch accuracy: 56.6%\n",
      "Validation accuracy: 56.7%\n",
      "Minibatch loss at step 2000 : 568.936\n",
      "Minibatch accuracy: 67.0%\n",
      "Validation accuracy: 69.6%\n",
      "Minibatch loss at step 2500 : 345.204\n",
      "Minibatch accuracy: 75.0%\n",
      "Validation accuracy: 77.1%\n",
      "Minibatch loss at step 3000 : 209.553\n",
      "Minibatch accuracy: 77.4%\n",
      "Validation accuracy: 80.1%\n",
      "Minibatch loss at step 3500 : 127.281\n",
      "Minibatch accuracy: 81.1%\n",
      "Validation accuracy: 81.7%\n",
      "Minibatch loss at step 4000 : 77.486\n",
      "Minibatch accuracy: 79.9%\n",
      "Validation accuracy: 82.9%\n",
      "Minibatch loss at step 4500 : 47.1753\n",
      "Minibatch accuracy: 83.7%\n",
      "Validation accuracy: 83.7%\n",
      "Minibatch loss at step 5000 : 28.7924\n",
      "Minibatch accuracy: 86.1%\n",
      "Validation accuracy: 84.3%\n",
      "Minibatch loss at step 5500 : 17.8241\n",
      "Minibatch accuracy: 82.7%\n",
      "Validation accuracy: 84.7%\n",
      "Minibatch loss at step 6000 : 11.0149\n",
      "Minibatch accuracy: 86.3%\n",
      "Validation accuracy: 84.7%\n",
      "Minibatch loss at step 6500 : 6.97269\n",
      "Minibatch accuracy: 85.9%\n",
      "Validation accuracy: 84.8%\n",
      "Minibatch loss at step 7000 : 4.60755\n",
      "Minibatch accuracy: 82.1%\n",
      "Validation accuracy: 84.8%\n",
      "Minibatch loss at step 7500 : 3.05274\n",
      "Minibatch accuracy: 85.4%\n",
      "Validation accuracy: 84.8%\n",
      "Minibatch loss at step 8000 : 2.12177\n",
      "Minibatch accuracy: 84.9%\n",
      "Validation accuracy: 84.8%\n",
      "Minibatch loss at step 8500 : 1.59039\n",
      "Minibatch accuracy: 84.0%\n",
      "Validation accuracy: 84.9%\n",
      "Minibatch loss at step 9000 : 1.26172\n",
      "Minibatch accuracy: 85.3%\n",
      "Validation accuracy: 85.0%\n",
      "Minibatch loss at step 9500 : 1.06014\n",
      "Minibatch accuracy: 84.8%\n",
      "Validation accuracy: 85.1%\n",
      "Minibatch loss at step 10000 : 0.938582\n",
      "Minibatch accuracy: 83.8%\n",
      "Validation accuracy: 85.1%\n",
      "Test accuracy: 91.2%\n"
     ]
    },
    {
     "data": {
      "text/plain": [
       "<tensorflow.python.framework.ops.Graph at 0x7fb3e24d1810>"
      ]
     },
     "execution_count": 51,
     "metadata": {},
     "output_type": "execute_result"
    }
   ],
   "source": [
    "get_nn_performance_two_hidden(num_steps=10001, batch_size=1024,\n",
    "                              print_freq=500, starter_learning_rate=0.05,\n",
    "                              dropout_rate=0.8, exp_learning_rate=True,\n",
    "                              reg_beta=0.01, n_hidden_2=256)"
   ]
  },
  {
   "cell_type": "code",
   "execution_count": 13,
   "metadata": {
    "collapsed": false
   },
   "outputs": [
    {
     "name": "stdout",
     "output_type": "stream",
     "text": [
      "Help on function get_nn_performance_two_hidden in module __main__:\n",
      "\n",
      "get_nn_performance_two_hidden(num_steps=3001, batch_size=128, n_hidden=1024, n_hidden_2=128, reg_beta=0.01, print_freq=500, train_data_size=None, starter_learning_rate=0.1, dropout_rate=0.5, exp_learning_rate=True)\n",
      "\n"
     ]
    }
   ],
   "source": [
    "help(get_nn_performance_two_hidden)"
   ]
  },
  {
   "cell_type": "code",
   "execution_count": 21,
   "metadata": {
    "collapsed": false,
    "scrolled": true
   },
   "outputs": [
    {
     "name": "stdout",
     "output_type": "stream",
     "text": [
      "Initialized\n",
      "Minibatch loss at step 0 : 3199.26\n",
      "Minibatch accuracy: 7.8%\n",
      "Validation accuracy: 19.6%\n",
      "Minibatch loss at step 500 : 397.628\n",
      "Minibatch accuracy: 57.0%\n",
      "Validation accuracy: 63.6%\n",
      "Minibatch loss at step 1000 : 305.804\n",
      "Minibatch accuracy: 60.5%\n",
      "Validation accuracy: 66.3%\n",
      "Minibatch loss at step 1500 : 238.092\n",
      "Minibatch accuracy: 64.8%\n",
      "Validation accuracy: 70.2%\n",
      "Minibatch loss at step 2000 : 185.65\n",
      "Minibatch accuracy: 67.2%\n",
      "Validation accuracy: 73.2%\n",
      "Minibatch loss at step 2500 : 144.419\n",
      "Minibatch accuracy: 70.7%\n",
      "Validation accuracy: 75.4%\n",
      "Minibatch loss at step 3000 : 112.795\n",
      "Minibatch accuracy: 70.3%\n",
      "Validation accuracy: 76.9%\n",
      "Minibatch loss at step 3500 : 87.7985\n",
      "Minibatch accuracy: 76.6%\n",
      "Validation accuracy: 78.2%\n",
      "Minibatch loss at step 4000 : 68.5501\n",
      "Minibatch accuracy: 76.6%\n",
      "Validation accuracy: 79.4%\n",
      "Minibatch loss at step 4500 : 53.5187\n",
      "Minibatch accuracy: 78.5%\n",
      "Validation accuracy: 80.0%\n",
      "Minibatch loss at step 5000 : 41.8438\n",
      "Minibatch accuracy: 78.9%\n",
      "Validation accuracy: 80.9%\n",
      "Minibatch loss at step 5500 : 32.7753\n",
      "Minibatch accuracy: 75.8%\n",
      "Validation accuracy: 81.5%\n",
      "Minibatch loss at step 6000 : 25.6501\n",
      "Minibatch accuracy: 79.3%\n",
      "Validation accuracy: 82.1%\n",
      "Minibatch loss at step 6500 : 20.1892\n",
      "Minibatch accuracy: 77.7%\n",
      "Validation accuracy: 82.6%\n",
      "Minibatch loss at step 7000 : 15.8478\n",
      "Minibatch accuracy: 79.3%\n",
      "Validation accuracy: 82.9%\n",
      "Minibatch loss at step 7500 : 12.4665\n",
      "Minibatch accuracy: 80.9%\n",
      "Validation accuracy: 83.2%\n",
      "Minibatch loss at step 8000 : 9.95756\n",
      "Minibatch accuracy: 76.2%\n",
      "Validation accuracy: 83.8%\n",
      "Minibatch loss at step 8500 : 7.73755\n",
      "Minibatch accuracy: 85.5%\n",
      "Validation accuracy: 84.1%\n",
      "Minibatch loss at step 9000 : 6.23564\n",
      "Minibatch accuracy: 80.9%\n",
      "Validation accuracy: 84.2%\n",
      "Minibatch loss at step 9500 : 5.13413\n",
      "Minibatch accuracy: 77.7%\n",
      "Validation accuracy: 84.5%\n",
      "Test accuracy: 90.8%\n"
     ]
    },
    {
     "data": {
      "text/plain": [
       "<tensorflow.python.framework.ops.Graph at 0x7fc38e31fe90>"
      ]
     },
     "execution_count": 21,
     "metadata": {},
     "output_type": "execute_result"
    }
   ],
   "source": [
    "get_nn_performance_two_hidden(num_steps=10000, batch_size=256,\n",
    "                              print_freq=500, starter_learning_rate=0.05,\n",
    "                              dropout_rate=0.5, exp_learning_rate=True,\n",
    "                              reg_beta=0.005, n_hidden_2=256, n_hidden=256)"
   ]
  },
  {
   "cell_type": "code",
   "execution_count": 35,
   "metadata": {
    "collapsed": false,
    "scrolled": true
   },
   "outputs": [
    {
     "name": "stdout",
     "output_type": "stream",
     "text": [
      "Initialized\n",
      "Minibatch loss at step 0 : 3199.4\n",
      "Minibatch accuracy: 11.7%\n",
      "Validation accuracy: 14.6%\n",
      "Minibatch loss at step 500 : 422.14\n",
      "Minibatch accuracy: 22.3%\n",
      "Validation accuracy: 17.1%\n",
      "Minibatch loss at step 1000 : 155.566\n",
      "Minibatch accuracy: 59.0%\n",
      "Validation accuracy: 57.5%\n",
      "Minibatch loss at step 1500 : 57.6797\n",
      "Minibatch accuracy: 67.2%\n",
      "Validation accuracy: 75.5%\n",
      "Minibatch loss at step 2000 : 21.8562\n",
      "Minibatch accuracy: 72.7%\n",
      "Validation accuracy: 80.8%\n",
      "Minibatch loss at step 2500 : 8.38463\n",
      "Minibatch accuracy: 82.8%\n",
      "Validation accuracy: 82.5%\n",
      "Minibatch loss at step 3000 : 3.67435\n",
      "Minibatch accuracy: 78.9%\n",
      "Validation accuracy: 83.2%\n",
      "Minibatch loss at step 3500 : 1.87248\n",
      "Minibatch accuracy: 79.3%\n",
      "Validation accuracy: 83.5%\n",
      "Minibatch loss at step 4000 : 1.2017\n",
      "Minibatch accuracy: 81.6%\n",
      "Validation accuracy: 84.0%\n",
      "Minibatch loss at step 4500 : 0.983122\n",
      "Minibatch accuracy: 81.6%\n",
      "Validation accuracy: 84.2%\n",
      "Minibatch loss at step 5000 : 0.863472\n",
      "Minibatch accuracy: 82.0%\n",
      "Validation accuracy: 84.0%\n",
      "Minibatch loss at step 5500 : 0.845307\n",
      "Minibatch accuracy: 82.0%\n",
      "Validation accuracy: 84.4%\n",
      "Minibatch loss at step 6000 : 0.865392\n",
      "Minibatch accuracy: 80.9%\n",
      "Validation accuracy: 84.1%\n",
      "Minibatch loss at step 6500 : 0.820419\n",
      "Minibatch accuracy: 81.2%\n",
      "Validation accuracy: 84.3%\n",
      "Minibatch loss at step 7000 : 0.859986\n",
      "Minibatch accuracy: 79.3%\n",
      "Validation accuracy: 84.5%\n",
      "Minibatch loss at step 7500 : 0.874417\n",
      "Minibatch accuracy: 80.5%\n",
      "Validation accuracy: 84.5%\n",
      "Minibatch loss at step 8000 : 0.830598\n",
      "Minibatch accuracy: 82.4%\n",
      "Validation accuracy: 84.6%\n",
      "Minibatch loss at step 8500 : 0.671282\n",
      "Minibatch accuracy: 86.7%\n",
      "Validation accuracy: 84.6%\n",
      "Minibatch loss at step 9000 : 0.805169\n",
      "Minibatch accuracy: 82.8%\n",
      "Validation accuracy: 84.7%\n",
      "Minibatch loss at step 9500 : 0.867469\n",
      "Minibatch accuracy: 82.8%\n",
      "Validation accuracy: 84.7%\n",
      "Minibatch loss at step 10000 : 0.817412\n",
      "Minibatch accuracy: 80.9%\n",
      "Validation accuracy: 84.5%\n",
      "Test accuracy: 90.9%\n"
     ]
    },
    {
     "data": {
      "text/plain": [
       "<tensorflow.python.framework.ops.Graph at 0x7fc38d8c9b90>"
      ]
     },
     "execution_count": 35,
     "metadata": {},
     "output_type": "execute_result"
    }
   ],
   "source": [
    "get_nn_performance_two_hidden(num_steps=10001, batch_size=256,\n",
    "                              print_freq=500, starter_learning_rate=0.1,\n",
    "                              dropout_rate=0.5, exp_learning_rate=True,\n",
    "                              reg_beta=0.01, n_hidden_2=256, n_hidden=256)"
   ]
  },
  {
   "cell_type": "code",
   "execution_count": 36,
   "metadata": {
    "collapsed": false,
    "scrolled": true
   },
   "outputs": [
    {
     "name": "stdout",
     "output_type": "stream",
     "text": [
      "Initialized\n",
      "Minibatch loss at step 0 : 6972.53\n",
      "Minibatch accuracy: 11.3%\n",
      "Validation accuracy: 10.2%\n",
      "Minibatch loss at step 500 : 1756.74\n",
      "Minibatch accuracy: 11.3%\n",
      "Validation accuracy: 10.7%\n",
      "Minibatch loss at step 1000 : 647.301\n",
      "Minibatch accuracy: 12.9%\n",
      "Validation accuracy: 14.1%\n",
      "Minibatch loss at step 1500 : 239.123\n",
      "Minibatch accuracy: 29.3%\n",
      "Validation accuracy: 27.7%\n",
      "Minibatch loss at step 2000 : 88.6972\n",
      "Minibatch accuracy: 43.8%\n",
      "Validation accuracy: 49.1%\n",
      "Minibatch loss at step 2500 : 32.8831\n",
      "Minibatch accuracy: 75.8%\n",
      "Validation accuracy: 77.2%\n",
      "Minibatch loss at step 3000 : 12.697\n",
      "Minibatch accuracy: 77.3%\n",
      "Validation accuracy: 82.2%\n",
      "Minibatch loss at step 3500 : 5.20093\n",
      "Minibatch accuracy: 79.7%\n",
      "Validation accuracy: 82.8%\n",
      "Minibatch loss at step 4000 : 2.44537\n",
      "Minibatch accuracy: 80.9%\n",
      "Validation accuracy: 83.5%\n",
      "Minibatch loss at step 4500 : 1.37343\n",
      "Minibatch accuracy: 80.1%\n",
      "Validation accuracy: 83.8%\n",
      "Minibatch loss at step 5000 : 1.07574\n",
      "Minibatch accuracy: 81.6%\n",
      "Validation accuracy: 83.6%\n",
      "Minibatch loss at step 5500 : 0.92542\n",
      "Minibatch accuracy: 83.2%\n",
      "Validation accuracy: 84.0%\n",
      "Minibatch loss at step 6000 : 0.879034\n",
      "Minibatch accuracy: 81.2%\n",
      "Validation accuracy: 83.8%\n",
      "Minibatch loss at step 6500 : 0.846778\n",
      "Minibatch accuracy: 84.0%\n",
      "Validation accuracy: 84.1%\n",
      "Minibatch loss at step 7000 : 0.88958\n",
      "Minibatch accuracy: 80.9%\n",
      "Validation accuracy: 84.2%\n",
      "Minibatch loss at step 7500 : 0.871146\n",
      "Minibatch accuracy: 81.6%\n",
      "Validation accuracy: 84.4%\n",
      "Minibatch loss at step 8000 : 0.841022\n",
      "Minibatch accuracy: 80.9%\n",
      "Validation accuracy: 84.4%\n",
      "Minibatch loss at step 8500 : 0.759004\n",
      "Minibatch accuracy: 85.5%\n",
      "Validation accuracy: 84.4%\n",
      "Minibatch loss at step 9000 : 0.802797\n",
      "Minibatch accuracy: 81.6%\n",
      "Validation accuracy: 84.3%\n",
      "Minibatch loss at step 9500 : 0.896368\n",
      "Minibatch accuracy: 80.9%\n",
      "Validation accuracy: 84.7%\n",
      "Minibatch loss at step 10000 : 0.815536\n",
      "Minibatch accuracy: 80.9%\n",
      "Validation accuracy: 84.3%\n",
      "Test accuracy: 90.7%\n"
     ]
    },
    {
     "data": {
      "text/plain": [
       "<tensorflow.python.framework.ops.Graph at 0x7fc38f237750>"
      ]
     },
     "execution_count": 36,
     "metadata": {},
     "output_type": "execute_result"
    }
   ],
   "source": [
    "get_nn_performance_two_hidden(num_steps=10001, batch_size=256,\n",
    "                              print_freq=500, starter_learning_rate=0.1,\n",
    "                              dropout_rate=0.5, exp_learning_rate=True,\n",
    "                              reg_beta=0.01, n_hidden_2=512, n_hidden=512)"
   ]
  },
  {
   "cell_type": "code",
   "execution_count": 30,
   "metadata": {
    "collapsed": true
   },
   "outputs": [],
   "source": [
    "def get_nn_performance_three_hidden(num_steps=3001, batch_size=128, n_hidden=128, n_hidden_2=128, n_hidden_3=128, \n",
    "                                    reg_beta=0.01, print_freq=500, train_data_size=None, starter_learning_rate=0.1,\n",
    "                                    dropout_rate=0.5, exp_learning_rate=True):\n",
    "    if train_data_size is None:\n",
    "        train_data_size = train_labels.shape[0]\n",
    "    graph = tf.Graph()\n",
    "    with graph.as_default():\n",
    "        # Input data. For the training data, we use a placeholder that will be fed\n",
    "        # at run time with a training minibatch.\n",
    "\n",
    "        # tf Graph input\n",
    "        if exp_learning_rate:\n",
    "            global_step = tf.Variable(0, trainable=False)\n",
    "            learning_rate = tf.train.exponential_decay(starter_learning_rate, global_step,\n",
    "                                                       100000, 0.96, staircase=True)\n",
    "        tf_train_dataset = tf.placeholder(tf.float32, shape=(batch_size, image_size * image_size))\n",
    "        tf_train_labels = tf.placeholder(tf.float32, shape=(batch_size, num_labels))\n",
    "        tf_valid_dataset = tf.constant(valid_dataset)\n",
    "        tf_test_dataset = tf.constant(test_dataset)\n",
    "\n",
    "        # Variables.\n",
    "        weights = {'h1': tf.Variable(tf.truncated_normal([image_size*image_size, n_hidden])),\n",
    "                   'h2': tf.Variable(tf.truncated_normal([n_hidden, n_hidden_2])),\n",
    "                   'h3': tf.Variable(tf.truncated_normal([n_hidden_2, n_hidden_3])),\n",
    "                   'out': tf.Variable(tf.truncated_normal([n_hidden_3, num_labels]))}\n",
    "        biases = {'b1': tf.Variable(tf.zeros([n_hidden])),\n",
    "                  'b2': tf.Variable(tf.zeros([n_hidden_2])),\n",
    "                  'b3': tf.Variable(tf.zeros([n_hidden_3])),\n",
    "                  'out': tf.Variable(tf.zeros([num_labels]))}\n",
    "\n",
    "        # Training computation.\n",
    "        layer_1 = tf.nn.relu(tf.add(tf.matmul(tf_train_dataset, weights['h1']), biases['b1']))\n",
    "        keep_prob = tf.placeholder(tf.float32)\n",
    "        layer_1_drop = tf.nn.dropout(layer_1, keep_prob)\n",
    "        layer_2 = tf.nn.relu(tf.add(tf.matmul(layer_1_drop, weights['h2']), biases['b2']))\n",
    "        layer_3 = tf.nn.relu(tf.add(tf.matmul(layer_2, weights['h3']), biases['b3']))\n",
    "        #later_2_drop = tf.nn.dropout(layer_2, keep_prob)\n",
    "        #logits = tf.matmul(layer_1_drop, weights['out']) + biases['out']\n",
    "        logits = tf.matmul(layer_3, weights['out']) + biases['out']\n",
    "        loss = tf.reduce_mean(tf.nn.softmax_cross_entropy_with_logits(logits, tf_train_labels)) \\\n",
    "               + reg_beta * (tf.nn.l2_loss(weights['h1']) + tf.nn.l2_loss(weights['h2']) + tf.nn.l2_loss(weights['h3']) \n",
    "                             + tf.nn.l2_loss(weights['out']))\n",
    "\n",
    "        # Optimizer.\n",
    "        #optimizer = tf.train.GradientDescentOptimizer(learning_rate).minimize(loss)\n",
    "        optimizer = tf.train.AdamOptimizer(learning_rate).minimize(loss)\n",
    "\n",
    "        # Predictions for the training, validation, and test data.\n",
    "        train_prediction = tf.nn.softmax(logits)\n",
    "        \n",
    "        valid_prediction = tf.matmul(\n",
    "            tf.nn.relu(tf.add(tf.matmul(\n",
    "                        tf.nn.relu(tf.add(tf.matmul(\n",
    "                                    tf.nn.relu(tf.add(tf.matmul(valid_dataset, weights['h1']), biases['b1'])), \n",
    "                                    weights['h2']), biases['b2'])),\n",
    "                        weights['h3']), biases['b3'])),\n",
    "            weights['out']) + biases['out']\n",
    "        \n",
    "        test_prediction = tf.matmul(\n",
    "            tf.nn.relu(tf.add(tf.matmul(\n",
    "                        tf.nn.relu(tf.add(tf.matmul(\n",
    "                                    tf.nn.relu(tf.add(tf.matmul(test_dataset, weights['h1']), biases['b1'])), \n",
    "                                    weights['h2']), biases['b2'])),\n",
    "                        weights['h3']), biases['b3'])),\n",
    "            weights['out']) + biases['out']\n",
    "    \n",
    "    with tf.Session(graph=graph) as session:\n",
    "        tf.initialize_all_variables().run()\n",
    "        print \"Initialized\"\n",
    "        for step in xrange(num_steps):\n",
    "            # Pick an offset within the training data, which has been randomized.\n",
    "            # Note: we could use better randomization across epochs.\n",
    "            offset = (step * batch_size) % (train_data_size - batch_size)\n",
    "            # Generate a minibatch.\n",
    "            batch_data = train_dataset[offset:(offset + batch_size), :]\n",
    "            batch_labels = train_labels[offset:(offset + batch_size), :]\n",
    "            # Prepare a dictionary telling the session where to feed the minibatch.\n",
    "            # The key of the dictionary is the placeholder node of the graph to be fed,\n",
    "            # and the value is the numpy array to feed to it.\n",
    "            feed_dict = {tf_train_dataset: batch_data, tf_train_labels: batch_labels, keep_prob: dropout_rate}\n",
    "            _, l, predictions = session.run([optimizer, loss, train_prediction], feed_dict=feed_dict)\n",
    "            if (step % print_freq == 0):\n",
    "                print \"Minibatch loss at step\", step, \":\", l\n",
    "                print \"Minibatch accuracy: %.1f%%\" % accuracy(predictions, batch_labels)\n",
    "                print \"Validation accuracy: %.1f%%\" % accuracy(\n",
    "                    valid_prediction.eval(feed_dict = {keep_prob: 1.}), valid_labels)\n",
    "        print \"Test accuracy: %.1f%%\" % accuracy(\n",
    "            test_prediction.eval(feed_dict = {keep_prob: 1.}), test_labels)\n",
    "    return graph"
   ]
  },
  {
   "cell_type": "code",
   "execution_count": 38,
   "metadata": {
    "collapsed": false,
    "scrolled": true
   },
   "outputs": [
    {
     "name": "stdout",
     "output_type": "stream",
     "text": [
      "Initialized\n",
      "Minibatch loss at step 0 : 8856.51\n",
      "Minibatch accuracy: 10.1%\n",
      "Validation accuracy: 21.6%\n",
      "Minibatch loss at step 100 : 670.429\n",
      "Minibatch accuracy: 33.9%\n",
      "Validation accuracy: 34.9%\n",
      "Minibatch loss at step 200 : 344.73\n",
      "Minibatch accuracy: 25.2%\n",
      "Validation accuracy: 21.4%\n",
      "Minibatch loss at step 300 : 186.1\n",
      "Minibatch accuracy: 40.4%\n",
      "Validation accuracy: 44.8%\n",
      "Minibatch loss at step 400 : 110.403\n",
      "Minibatch accuracy: 55.5%\n",
      "Validation accuracy: 59.7%\n",
      "Minibatch loss at step 500 : 71.0393\n",
      "Minibatch accuracy: 64.3%\n",
      "Validation accuracy: 65.8%\n",
      "Minibatch loss at step 600 : 48.4381\n",
      "Minibatch accuracy: 72.8%\n",
      "Validation accuracy: 78.1%\n",
      "Minibatch loss at step 700 : 34.4451\n",
      "Minibatch accuracy: 77.4%\n",
      "Validation accuracy: 81.9%\n",
      "Minibatch loss at step 800 : 25.186\n",
      "Minibatch accuracy: 81.5%\n",
      "Validation accuracy: 83.3%\n",
      "Minibatch loss at step 900 : 18.9482\n",
      "Minibatch accuracy: 80.7%\n",
      "Validation accuracy: 83.9%\n",
      "Minibatch loss at step 1000 : 14.5037\n",
      "Minibatch accuracy: 81.8%\n",
      "Validation accuracy: 84.0%\n",
      "Minibatch loss at step 1100 : 11.343\n",
      "Minibatch accuracy: 81.7%\n",
      "Validation accuracy: 84.4%\n",
      "Minibatch loss at step 1200 : 8.95663\n",
      "Minibatch accuracy: 82.9%\n",
      "Validation accuracy: 84.3%\n",
      "Test accuracy: 90.4%\n"
     ]
    },
    {
     "data": {
      "text/plain": [
       "<tensorflow.python.framework.ops.Graph at 0x7fb3e3afdfd0>"
      ]
     },
     "execution_count": 38,
     "metadata": {},
     "output_type": "execute_result"
    }
   ],
   "source": [
    "get_nn_performance_three_hidden(num_steps=1201, batch_size=4096,\n",
    "                              print_freq=100, starter_learning_rate=0.035,\n",
    "                              dropout_rate=0.5, exp_learning_rate=True,\n",
    "                              reg_beta=0.02)"
   ]
  },
  {
   "cell_type": "code",
   "execution_count": null,
   "metadata": {
    "collapsed": true
   },
   "outputs": [],
   "source": []
  }
 ],
 "metadata": {
  "colabVersion": "0.3.2",
  "colab_default_view": {},
  "colab_views": {},
  "kernelspec": {
   "display_name": "Python 2",
   "language": "python",
   "name": "python2"
  },
  "language_info": {
   "codemirror_mode": {
    "name": "ipython",
    "version": 2
   },
   "file_extension": ".py",
   "mimetype": "text/x-python",
   "name": "python",
   "nbconvert_exporter": "python",
   "pygments_lexer": "ipython2",
   "version": "2.7.10"
  }
 },
 "nbformat": 4,
 "nbformat_minor": 0
}
